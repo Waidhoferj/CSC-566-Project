{
  "nbformat": 4,
  "nbformat_minor": 0,
  "metadata": {
    "colab": {
      "name": "FacialLandmarks.ipynb",
      "provenance": [],
      "collapsed_sections": [],
      "include_colab_link": true
    },
    "kernelspec": {
      "name": "python3",
      "display_name": "Python 3"
    },
    "language_info": {
      "name": "python"
    },
    "accelerator": "GPU"
  },
  "cells": [
    {
      "cell_type": "markdown",
      "metadata": {
        "id": "view-in-github",
        "colab_type": "text"
      },
      "source": [
        "<a href=\"https://colab.research.google.com/github/Waidhoferj/CSC-566-Project/blob/apply_filter/FacialLandmarks.ipynb\" target=\"_parent\"><img src=\"https://colab.research.google.com/assets/colab-badge.svg\" alt=\"Open In Colab\"/></a>"
      ]
    },
    {
      "cell_type": "markdown",
      "metadata": {
        "id": "0EJZwDvM21EV"
      },
      "source": [
        "# Facial Landmarks\n",
        "Experimentation with facial landmarks models and datasets."
      ]
    },
    {
      "cell_type": "code",
      "metadata": {
        "id": "MQFjoPKY-ZaY"
      },
      "source": [
        "import numpy as np\n",
        "import matplotlib.pyplot as plt\n",
        "from matplotlib.patches import Circle\n",
        "import pandas as pd\n",
        "import tensorflow as tf\n",
        "from tensorflow.keras.models import Model, Sequential\n",
        "from tensorflow.keras import layers\n",
        "from google.colab import drive\n",
        "import os\n",
        "from scipy.io import loadmat\n",
        "import random"
      ],
      "execution_count": 1,
      "outputs": []
    },
    {
      "cell_type": "code",
      "metadata": {
        "id": "LCIThEi--w0H",
        "colab": {
          "base_uri": "https://localhost:8080/"
        },
        "outputId": "08b0d360-78c4-48a3-ce02-98e3d8c2056e"
      },
      "source": [
        "drive.mount('/content/drive')"
      ],
      "execution_count": 2,
      "outputs": [
        {
          "output_type": "stream",
          "text": [
            "Mounted at /content/drive\n"
          ],
          "name": "stdout"
        }
      ]
    },
    {
      "cell_type": "markdown",
      "metadata": {
        "id": "ZXe9WUnF2_O3"
      },
      "source": [
        "Add your name and filepath to the project folder so that you can load the datasets.\n"
      ]
    },
    {
      "cell_type": "code",
      "metadata": {
        "id": "ngxIBPhm1Q80"
      },
      "source": [
        "USER = \"Ty\"\n",
        "USER_FILEPATHS = {\n",
        "    \"John\" : \"/content/drive/MyDrive/CSC 566 Project\",\n",
        "    \"Jeremy\" : \"/content/drive/MyDrive/School/Undergrad/2021 Spring/CSC 566/CSC 566 Project\",\n",
        "    \"Ty\" : \"/content/drive/MyDrive/CSC 566 Project\"\n",
        "}\n",
        "PROJECT_FILEPATH = USER_FILEPATHS[USER]"
      ],
      "execution_count": 4,
      "outputs": []
    },
    {
      "cell_type": "markdown",
      "metadata": {
        "id": "wcX_vDf3BcjR"
      },
      "source": [
        "## Data Preparation"
      ]
    },
    {
      "cell_type": "code",
      "metadata": {
        "id": "PpSQj0yh2UTF"
      },
      "source": [
        "# Sanity check for loading data\n",
        "def display_landmarks(img, points):\n",
        "  \"\"\"\n",
        "  Displays portrait with landmark dots drawn on the face.\n",
        "  Assumes that points are in (68,2)\n",
        "  \"\"\"\n",
        "  #If we are reading from .mat files directly (2,68)\n",
        "  if points.shape[0] == 2:\n",
        "    points = points.transpose(1,0)\n",
        "  #If reading from model output\n",
        "  elif len(points.shape) == 1:\n",
        "    points = points.reshape(-1,2)\n",
        "  fig,ax = plt.subplots(1)\n",
        "  ax.set_aspect('equal')\n",
        "  ax.imshow(img)\n",
        "  for p in points:\n",
        "      circ = Circle(p)\n",
        "      ax.add_patch(circ)\n",
        "  plt.show()\n",
        "\n",
        "#points = loadmat(AFW_DATASET + \"/70037463_1.mat\")[\"pt2d\"]\n",
        "#img  = plt.imread( AFW_DATASET+\"/70037463_1.jpg\")\n",
        "\n",
        "#display_landmarks(img,points)\n",
        "\n"
      ],
      "execution_count": 5,
      "outputs": []
    },
    {
      "cell_type": "code",
      "metadata": {
        "id": "k-39rOKd3deP",
        "colab": {
          "base_uri": "https://localhost:8080/"
        },
        "outputId": "190fd47b-8722-4eb4-db16-627eaa383b44"
      },
      "source": [
        "import tensorflow as tf\n",
        "\n",
        "DATALOADER_BASE_PATH = PROJECT_FILEPATH + \"/datasets/tf-datasets\"\n",
        "USE_CROPPED_IMAGES = False\n",
        "DATASET_PREFIX = \"cropped-\" if USE_CROPPED_IMAGES else \"\"\n",
        "\n",
        "class DataLoader:\n",
        "\n",
        "  IMAGE_SHAPE = (256, 256, 3) if USE_CROPPED_IMAGES else (450, 450, 3)\n",
        "  LANDMARKS_SHAPE = (136,)\n",
        "\n",
        "  BATCH_SIZE = 64\n",
        "  TRAIN_PATHS = [f\"{DATALOADER_BASE_PATH}/{DATASET_PREFIX}train-{i}.tfrecord.gz\" for i in range(5)]\n",
        "  VAL_PATHS = [f\"{DATALOADER_BASE_PATH}/{DATASET_PREFIX}val-{i}.tfrecord.gz\" for i in range(5)]\n",
        "  TEST_PATHS = [f\"{DATALOADER_BASE_PATH}/{DATASET_PREFIX}test-{i}.tfrecord.gz\" for i in range(5)]\n",
        "\n",
        "  def load_datasets():\n",
        "    dl = DataLoader()\n",
        "    return (dl.__load_dataset(DataLoader.TRAIN_PATHS, DataLoader.BATCH_SIZE),\n",
        "            dl.__load_dataset(DataLoader.VAL_PATHS, DataLoader.BATCH_SIZE),\n",
        "            dl.__load_dataset(DataLoader.TEST_PATHS, 1))\n",
        "\n",
        "  def __load_dataset(self, filepath, batch_size):\n",
        "    dataset = tf.data.TFRecordDataset([filepath], compression_type=\"GZIP\")\n",
        "    dataset = dataset.map(self.__parse_example, num_parallel_calls=tf.data.AUTOTUNE)\n",
        "    dataset = dataset.map(self.__reshape_entry, num_parallel_calls=tf.data.AUTOTUNE)\n",
        "    images = dataset.map(lambda x,y: x).batch(batch_size)\n",
        "    labels = dataset.map(lambda x,y: y).batch(batch_size)\n",
        "    dataset = tf.data.Dataset.zip((images, labels))\n",
        "    dataset.cache() # Cache the above map operations so they aren't re-run every epoch\n",
        "    return dataset\n",
        "\n",
        "\n",
        "  def __parse_example(self, record):\n",
        "    feature_names = {}\n",
        "    feature_names['image'] = tf.io.FixedLenSequenceFeature([],tf.float32, allow_missing=True)\n",
        "    feature_names['landmarks'] = tf.io.FixedLenSequenceFeature([],tf.float32, allow_missing=True)\n",
        "    return tf.io.parse_single_example(record, feature_names)\n",
        "\n",
        "  def __reshape_entry(self, entry):\n",
        "    image = tf.reshape(entry['image'], DataLoader.IMAGE_SHAPE)\n",
        "    landmarks = tf.reshape(entry['landmarks'], DataLoader.LANDMARKS_SHAPE)\n",
        "    return image, landmarks\n",
        "\n",
        "\n",
        "train_data, val_data, test_data = DataLoader.load_datasets()\n",
        "for i,record in enumerate(val_data):\n",
        "  print(record[0].shape)"
      ],
      "execution_count": 20,
      "outputs": [
        {
          "output_type": "stream",
          "text": [
            "(64, 450, 450, 3)\n",
            "(64, 450, 450, 3)\n",
            "(64, 450, 450, 3)\n",
            "(58, 450, 450, 3)\n"
          ],
          "name": "stdout"
        }
      ]
    },
    {
      "cell_type": "markdown",
      "metadata": {
        "id": "ZwW6y33R9jmf"
      },
      "source": [
        "## Basic Benchmark Model\n",
        "From [this medium article](https://towardsdatascience.com/detecting-facial-features-using-deep-learning-2e23c8660a7a)"
      ]
    },
    {
      "cell_type": "code",
      "metadata": {
        "id": "rX_z1wLO2YfP"
      },
      "source": [
        "def create_basic_landmark_model(input_shape, conv_range):\n",
        "  input_layer = layers.Input(input_shape)\n",
        "  x = input_layer\n",
        "  for exp in conv_range:\n",
        "    x = layers.Conv2D(2**exp, (3,3), 3, activation=\"relu\")(x)\n",
        "    x = layers.MaxPool2D(padding=\"same\")(x)\n",
        "  x = layers.Flatten()(x)\n",
        "  x = layers.Dense(500, activation=\"relu\")(x)\n",
        "  x = layers.Dense(90, activation=\"relu\")(x)\n",
        "  x = layers.Dense(68*2, activation=\"relu\")(x)\n",
        "  return Model(name=\"landmark_locator\", inputs=input_layer, outputs=x)\n",
        "\n"
      ],
      "execution_count": 7,
      "outputs": []
    },
    {
      "cell_type": "code",
      "metadata": {
        "id": "RfkeiXIDEfgL",
        "colab": {
          "base_uri": "https://localhost:8080/"
        },
        "outputId": "3b97f096-71c8-41af-c506-8e0811887c44"
      },
      "source": [
        "INPUT_SHAPE = (450,450,3)\n",
        "basic_model = create_basic_landmark_model(INPUT_SHAPE, range(5,8))\n",
        "basic_model.compile(optimizer=\"adam\", loss=\"mse\", metrics=[\"accuracy\"])\n",
        "basic_model.summary()"
      ],
      "execution_count": 8,
      "outputs": [
        {
          "output_type": "stream",
          "text": [
            "Model: \"landmark_locator\"\n",
            "_________________________________________________________________\n",
            "Layer (type)                 Output Shape              Param #   \n",
            "=================================================================\n",
            "input_1 (InputLayer)         [(None, 450, 450, 3)]     0         \n",
            "_________________________________________________________________\n",
            "conv2d (Conv2D)              (None, 150, 150, 32)      896       \n",
            "_________________________________________________________________\n",
            "max_pooling2d (MaxPooling2D) (None, 75, 75, 32)        0         \n",
            "_________________________________________________________________\n",
            "conv2d_1 (Conv2D)            (None, 25, 25, 64)        18496     \n",
            "_________________________________________________________________\n",
            "max_pooling2d_1 (MaxPooling2 (None, 13, 13, 64)        0         \n",
            "_________________________________________________________________\n",
            "conv2d_2 (Conv2D)            (None, 4, 4, 128)         73856     \n",
            "_________________________________________________________________\n",
            "max_pooling2d_2 (MaxPooling2 (None, 2, 2, 128)         0         \n",
            "_________________________________________________________________\n",
            "flatten (Flatten)            (None, 512)               0         \n",
            "_________________________________________________________________\n",
            "dense (Dense)                (None, 500)               256500    \n",
            "_________________________________________________________________\n",
            "dense_1 (Dense)              (None, 90)                45090     \n",
            "_________________________________________________________________\n",
            "dense_2 (Dense)              (None, 136)               12376     \n",
            "=================================================================\n",
            "Total params: 407,214\n",
            "Trainable params: 407,214\n",
            "Non-trainable params: 0\n",
            "_________________________________________________________________\n"
          ],
          "name": "stdout"
        }
      ]
    },
    {
      "cell_type": "code",
      "metadata": {
        "id": "eQc5qiW1FzcD",
        "colab": {
          "base_uri": "https://localhost:8080/"
        },
        "outputId": "4632cfc3-271e-41dd-ac93-10dbc986a187"
      },
      "source": [
        "# Training\n",
        "history = basic_model.fit(train_data.shuffle(64), epochs=30, validation_data=val_data, verbose=1)"
      ],
      "execution_count": null,
      "outputs": [
        {
          "output_type": "stream",
          "text": [
            "Epoch 1/30\n",
            "26/26 [==============================] - 23s 160ms/step - loss: 0.0827 - accuracy: 0.2055 - val_loss: 0.0828 - val_accuracy: 0.1920\n",
            "Epoch 2/30\n",
            "26/26 [==============================] - 23s 160ms/step - loss: 0.0827 - accuracy: 0.2068 - val_loss: 0.0828 - val_accuracy: 0.1920\n",
            "Epoch 3/30\n",
            "26/26 [==============================] - 23s 159ms/step - loss: 0.0826 - accuracy: 0.2055 - val_loss: 0.0828 - val_accuracy: 0.1880\n",
            "Epoch 4/30\n",
            "26/26 [==============================] - 23s 159ms/step - loss: 0.0826 - accuracy: 0.2062 - val_loss: 0.0828 - val_accuracy: 0.1920\n",
            "Epoch 5/30\n",
            "26/26 [==============================] - 23s 156ms/step - loss: 0.0826 - accuracy: 0.2062 - val_loss: 0.0827 - val_accuracy: 0.1920\n",
            "Epoch 6/30\n",
            "26/26 [==============================] - 23s 159ms/step - loss: 0.0825 - accuracy: 0.2055 - val_loss: 0.0827 - val_accuracy: 0.1920\n",
            "Epoch 7/30\n",
            "26/26 [==============================] - 23s 159ms/step - loss: 0.0825 - accuracy: 0.2049 - val_loss: 0.0826 - val_accuracy: 0.1920\n",
            "Epoch 8/30\n",
            "26/26 [==============================] - 23s 159ms/step - loss: 0.0824 - accuracy: 0.2043 - val_loss: 0.0826 - val_accuracy: 0.1920\n",
            "Epoch 9/30\n",
            "26/26 [==============================] - 23s 159ms/step - loss: 0.0824 - accuracy: 0.2062 - val_loss: 0.0826 - val_accuracy: 0.1920\n",
            "Epoch 10/30\n",
            "26/26 [==============================] - 23s 158ms/step - loss: 0.0824 - accuracy: 0.2049 - val_loss: 0.0826 - val_accuracy: 0.1920\n",
            "Epoch 11/30\n",
            "26/26 [==============================] - 23s 158ms/step - loss: 0.0823 - accuracy: 0.2055 - val_loss: 0.0825 - val_accuracy: 0.1920\n",
            "Epoch 12/30\n",
            "26/26 [==============================] - 23s 158ms/step - loss: 0.0823 - accuracy: 0.2049 - val_loss: 0.0825 - val_accuracy: 0.1920\n",
            "Epoch 13/30\n",
            "26/26 [==============================] - 23s 158ms/step - loss: 0.0823 - accuracy: 0.2062 - val_loss: 0.0825 - val_accuracy: 0.1920\n",
            "Epoch 14/30\n",
            "26/26 [==============================] - 23s 157ms/step - loss: 0.0823 - accuracy: 0.2037 - val_loss: 0.0825 - val_accuracy: 0.1880\n",
            "Epoch 15/30\n",
            "26/26 [==============================] - 23s 157ms/step - loss: 0.0822 - accuracy: 0.2043 - val_loss: 0.0825 - val_accuracy: 0.1920\n",
            "Epoch 16/30\n",
            "26/26 [==============================] - 23s 159ms/step - loss: 0.0823 - accuracy: 0.2055 - val_loss: 0.0826 - val_accuracy: 0.1920\n",
            "Epoch 17/30\n",
            "26/26 [==============================] - 23s 159ms/step - loss: 0.0823 - accuracy: 0.2043 - val_loss: 0.0825 - val_accuracy: 0.1920\n",
            "Epoch 18/30\n",
            "26/26 [==============================] - 23s 160ms/step - loss: 0.0822 - accuracy: 0.2049 - val_loss: 0.0824 - val_accuracy: 0.1920\n",
            "Epoch 19/30\n",
            "26/26 [==============================] - 22s 158ms/step - loss: 0.0822 - accuracy: 0.2062 - val_loss: 0.0824 - val_accuracy: 0.1920\n",
            "Epoch 20/30\n",
            "26/26 [==============================] - 23s 159ms/step - loss: 0.0821 - accuracy: 0.2049 - val_loss: 0.0824 - val_accuracy: 0.1920\n",
            "Epoch 21/30\n",
            "26/26 [==============================] - 22s 157ms/step - loss: 0.0821 - accuracy: 0.2062 - val_loss: 0.0824 - val_accuracy: 0.1920\n",
            "Epoch 22/30\n",
            "26/26 [==============================] - 23s 159ms/step - loss: 0.0821 - accuracy: 0.2049 - val_loss: 0.0824 - val_accuracy: 0.1920\n",
            "Epoch 23/30\n",
            "26/26 [==============================] - 23s 158ms/step - loss: 0.0822 - accuracy: 0.2062 - val_loss: 0.0824 - val_accuracy: 0.1920\n",
            "Epoch 24/30\n",
            "26/26 [==============================] - 23s 159ms/step - loss: 0.0821 - accuracy: 0.2043 - val_loss: 0.0824 - val_accuracy: 0.1920\n",
            "Epoch 25/30\n",
            "26/26 [==============================] - 23s 158ms/step - loss: 0.0822 - accuracy: 0.2068 - val_loss: 0.0825 - val_accuracy: 0.1920\n",
            "Epoch 26/30\n",
            "26/26 [==============================] - 23s 160ms/step - loss: 0.0821 - accuracy: 0.2080 - val_loss: 0.0825 - val_accuracy: 0.1920\n",
            "Epoch 27/30\n",
            "26/26 [==============================] - 23s 158ms/step - loss: 0.0821 - accuracy: 0.2068 - val_loss: 0.0824 - val_accuracy: 0.1920\n",
            "Epoch 28/30\n",
            "26/26 [==============================] - 23s 158ms/step - loss: 0.0821 - accuracy: 0.2080 - val_loss: 0.0824 - val_accuracy: 0.1920\n",
            "Epoch 29/30\n",
            "26/26 [==============================] - 23s 160ms/step - loss: 0.0822 - accuracy: 0.2074 - val_loss: 0.0825 - val_accuracy: 0.1920\n",
            "Epoch 30/30\n",
            "26/26 [==============================] - 23s 158ms/step - loss: 0.0821 - accuracy: 0.2055 - val_loss: 0.0824 - val_accuracy: 0.1920\n"
          ],
          "name": "stdout"
        }
      ]
    },
    {
      "cell_type": "code",
      "metadata": {
        "id": "gQsqlfYfazYD"
      },
      "source": [
        "basic_model.save_weights(PROJECT_FILEPATH + \"/uncropped-basic-weights.h5\")"
      ],
      "execution_count": null,
      "outputs": []
    },
    {
      "cell_type": "code",
      "metadata": {
        "id": "vmyv0MlwCFIN"
      },
      "source": [
        "# Running\n",
        "basic_model.load_weights(PROJECT_FILEPATH + \"/uncropped-basic-weights.h5\")"
      ],
      "execution_count": 9,
      "outputs": []
    },
    {
      "cell_type": "markdown",
      "metadata": {
        "id": "nr31eAIQVGlu"
      },
      "source": [
        "### Analyze Results"
      ]
    },
    {
      "cell_type": "code",
      "metadata": {
        "id": "ukAD1nioU9WQ"
      },
      "source": [
        "pd.DataFrame(basic_model.history.history).plot()"
      ],
      "execution_count": null,
      "outputs": []
    },
    {
      "cell_type": "code",
      "metadata": {
        "id": "uQJxDEObVSOx"
      },
      "source": [
        "predictions = basic_model.predict(test_data.map(lambda x,y: x))"
      ],
      "execution_count": 11,
      "outputs": []
    },
    {
      "cell_type": "code",
      "metadata": {
        "id": "2AShlJ00Vz81"
      },
      "source": [
        "#@title View Predicted Images\n",
        "image_index = 3 #@param {type:\"slider\", min:1, max:16, step:1}\n",
        "points = predictions * 450\n",
        "i = 0\n",
        "for x in test_data.map(lambda x,y: x):\n",
        "#  for img in x:\n",
        "  if (i == image_index):\n",
        "    display_landmarks(tf.reshape(x, DataLoader.IMAGE_SHAPE), points[image_index])\n",
        "    break\n",
        "  i += 1"
      ],
      "execution_count": null,
      "outputs": []
    },
    {
      "cell_type": "markdown",
      "metadata": {
        "id": "igUZBD7Hzus7"
      },
      "source": [
        "#Apply Filter"
      ]
    },
    {
      "cell_type": "code",
      "metadata": {
        "id": "RKc8lkr2zH-e",
        "outputId": "bd9c3e98-9b2e-42ba-a6b0-413d06a4e5b2",
        "colab": {
          "base_uri": "https://localhost:8080/",
          "height": 576
        }
      },
      "source": [
        "import matplotlib.pyplot as plt\n",
        "import numpy as np\n",
        "\n",
        "count = 0\n",
        "img_size = 450\n",
        "\n",
        "for img,landmarks in test_data:\n",
        "  if count == 1:\n",
        "    break\n",
        "  #plots the face with landmarks\n",
        "  print(\"img: {0} landmarks:{1}\".format(img.shape, landmarks.shape))\n",
        "  plt.clf()\n",
        "\n",
        "  landmarks = landmarks.numpy().squeeze()\n",
        "  x_points = landmarks[0::2]\n",
        "  y_points = landmarks[1::2]\n",
        "\n",
        "  \n",
        "  fig,ax = plt.subplots(1)\n",
        "  ax.set_aspect('equal')\n",
        "  ax.imshow(img.numpy().squeeze())\n",
        "\n",
        "\n",
        "  for i in range(len(x_points)):\n",
        "      circ = Circle((x_points[i]*img_size, y_points[i]*img_size))\n",
        "      ax.add_patch(circ)\n",
        "  plt.show()\n",
        "  \n",
        "  #annotates the face with numbers\n",
        "  plt.clf()\n",
        "  plt.gca().invert_yaxis()  \n",
        "  for i in range(len(x_points)):\n",
        "    # 'bo-' means blue color, round points, solid lines\n",
        "    plt.plot(x_points[i]*img_size,y_points[i]*img_size,'bo-')\n",
        "\n",
        "\n",
        "    plt.annotate(i, # this is the text\n",
        "                 (x_points[i]*img_size,y_points[i]*img_size), # this is the point to label\n",
        "                 textcoords=\"offset points\", # how to position the text\n",
        "                 xytext=(0,10), # distance from text to points (x,y)\n",
        "                 ha='center') # horizontal alignment can be left, right or center\n",
        "   \n",
        "  plt.show()\n",
        "\n",
        "  \n",
        "  count = count + 1\n",
        "\n"
      ],
      "execution_count": 101,
      "outputs": [
        {
          "output_type": "stream",
          "text": [
            "Clipping input data to the valid range for imshow with RGB data ([0..1] for floats or [0..255] for integers).\n"
          ],
          "name": "stderr"
        },
        {
          "output_type": "stream",
          "text": [
            "img: (1, 450, 450, 3) landmarks:(1, 136)\n"
          ],
          "name": "stdout"
        },
        {
          "output_type": "display_data",
          "data": {
            "text/plain": [
              "<Figure size 432x288 with 0 Axes>"
            ]
          },
          "metadata": {
            "tags": []
          }
        },
        {
          "output_type": "display_data",
          "data": {
            "image/png": "[encoded data removed]",
            "text/plain": [
              "<Figure size 432x288 with 1 Axes>"
            ]
          },
          "metadata": {
            "tags": [],
            "needs_background": "light"
          }
        },
        {
          "output_type": "display_data",
          "data": {
            "image/png": "[encoded data removed]",
            "text/plain": [
              "<Figure size 432x288 with 1 Axes>"
            ]
          },
          "metadata": {
            "tags": [],
            "needs_background": "light"
          }
        }
      ]
    }
  ]
}