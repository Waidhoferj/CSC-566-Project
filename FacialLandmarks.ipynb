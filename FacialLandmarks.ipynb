{
  "nbformat": 4,
  "nbformat_minor": 0,
  "metadata": {
    "colab": {
      "name": "FacialLandmarks.ipynb",
      "provenance": [],
      "collapsed_sections": [],
      "machine_shape": "hm",
      "include_colab_link": true
    },
    "kernelspec": {
      "name": "python3",
      "display_name": "Python 3"
    },
    "language_info": {
      "name": "python"
    },
    "accelerator": "GPU"
  },
  "cells": [
    {
      "cell_type": "markdown",
      "metadata": {
        "id": "view-in-github",
        "colab_type": "text"
      },
      "source": [
        "<a href=\"https://colab.research.google.com/github/Waidhoferj/CSC-566-Project/blob/PFLD/FacialLandmarks.ipynb\" target=\"_parent\"><img src=\"https://colab.research.google.com/assets/colab-badge.svg\" alt=\"Open In Colab\"/></a>"
      ]
    },
    {
      "cell_type": "markdown",
      "metadata": {
        "id": "0EJZwDvM21EV"
      },
      "source": [
        "# Facial Landmarks\n",
        "Experimentation with facial landmarks models and datasets."
      ]
    },
    {
      "cell_type": "code",
      "metadata": {
        "id": "MQFjoPKY-ZaY"
      },
      "source": [
        "import numpy as np\n",
        "import matplotlib.pyplot as plt\n",
        "from matplotlib.patches import Circle\n",
        "import pandas as pd\n",
        "import tensorflow as tf\n",
        "from tensorflow.keras.models import Model, Sequential\n",
        "from tensorflow.keras import layers\n",
        "from google.colab import drive\n",
        "import os\n",
        "from scipy.io import loadmat\n",
        "import random"
      ],
      "execution_count": 3,
      "outputs": []
    },
    {
      "cell_type": "code",
      "metadata": {
        "id": "LCIThEi--w0H",
        "colab": {
          "base_uri": "https://localhost:8080/"
        },
        "outputId": "d128ef38-1e5f-4d23-cdfc-75af7a410b9e"
      },
      "source": [
        "drive.mount('/content/drive')"
      ],
      "execution_count": 4,
      "outputs": [
        {
          "output_type": "stream",
          "text": [
            "Mounted at /content/drive\n"
          ],
          "name": "stdout"
        }
      ]
    },
    {
      "cell_type": "markdown",
      "metadata": {
        "id": "ZXe9WUnF2_O3"
      },
      "source": [
        "Add your name and filepath to the project folder so that you can load the datasets.\n"
      ]
    },
    {
      "cell_type": "code",
      "metadata": {
        "id": "ngxIBPhm1Q80"
      },
      "source": [
        "USER = \"John\"\n",
        "USER_FILEPATHS = {\n",
        "    \"John\" : \"/content/drive/MyDrive/CSC 566 Project\",\n",
        "    \"Jeremy\" : \"/content/drive/MyDrive/School/Undergrad/2021 Spring/CSC 566/CSC 566 Project\",\n",
        "    \"Ty\" : \"/content/drive/MyDrive/CSC 566 Project\"\n",
        "}\n",
        "PROJECT_FILEPATH = USER_FILEPATHS[USER]\n",
        "DATASETS_PATH = os.path.join(PROJECT_FILEPATH, \"datasets\", \"300W-3D\")"
      ],
      "execution_count": 5,
      "outputs": []
    },
    {
      "cell_type": "markdown",
      "metadata": {
        "id": "wcX_vDf3BcjR"
      },
      "source": [
        "## Data Preparation"
      ]
    },
    {
      "cell_type": "code",
      "metadata": {
        "id": "PpSQj0yh2UTF"
      },
      "source": [
        "# Sanity check for loading data\n",
        "def display_landmarks(img, points):\n",
        "  \"\"\"\n",
        "  Displays portrait with landmark dots drawn on the face.\n",
        "  Assumes that points are in (68,2)\n",
        "  \"\"\"\n",
        "  #If we are reading from .mat files directly (2,68)\n",
        "  if points.shape[0] == 2:\n",
        "    points = points.transpose(1,0)\n",
        "  #If reading from model output\n",
        "  elif len(points.shape) == 1:\n",
        "    points = points.reshape(-1,2)\n",
        "  fig,ax = plt.subplots(1)\n",
        "  ax.set_aspect('equal')\n",
        "  ax.imshow(img)\n",
        "  for p in points:\n",
        "      circ = Circle(p)\n",
        "      ax.add_patch(circ)\n",
        "  plt.show()\n",
        "\n",
        "#points = loadmat(AFW_DATASET + \"/70037463_1.mat\")[\"pt2d\"]\n",
        "#img  = plt.imread( AFW_DATASET+\"/70037463_1.jpg\")\n",
        "\n",
        "#display_landmarks(img,points)\n",
        "\n"
      ],
      "execution_count": 6,
      "outputs": []
    },
    {
      "cell_type": "code",
      "metadata": {
        "id": "7FViDYbR7IRA",
        "colab": {
          "base_uri": "https://localhost:8080/"
        },
        "outputId": "7c6e8255-b76a-4b7e-ad8c-d7e33816942c"
      },
      "source": [
        "def get_dataset_filenames(path):\n",
        "  return [os.path.join(path, name.split('.')[0]) for name in os.listdir(path) if name.endswith(\".mat\")]\n",
        "\n",
        "# Using only IBUG and AFW is fine because of their size. If you add HELEN\n",
        "# with the current setup, it will take like 10 min to load and 3 min per epoch\n",
        "datasets = [\n",
        "            \"IBUG\", \n",
        "            \"AFW\", \n",
        "            \"HELEN\", \n",
        "            # \"LFPW\"\n",
        "            ]\n",
        "filepaths = [get_dataset_filenames(f\"{PROJECT_FILEPATH}/datasets/300W-3D/{ds}\") for ds in datasets]\n",
        "filepaths = [item for sublist in filepaths for item in sublist] # Flattens the list\n",
        "test_filepaths = get_dataset_filenames(f\"{PROJECT_FILEPATH}/datasets/300W-3D/LFPW\")\n",
        "\n",
        "def generate_pose():\n",
        "  for path in filepaths:\n",
        "    mat = loadmat(path + \".mat\")\n",
        "    yield mat[\"Pose_Para\"][0][0:3]\n",
        "\n",
        "def generate_image():\n",
        "  for path in filepaths:\n",
        "    img = plt.imread(path + \".jpg\")\n",
        "    yield img.astype(\"float32\") / 255.0\n",
        "\n",
        "def generate_landmarks():\n",
        "  for path in filepaths:\n",
        "    mat = loadmat(path + \".mat\")\n",
        "    yield mat[\"pt2d\"].transpose().reshape((-1, 136)).squeeze()\n",
        "\n",
        "\n",
        "def generate():\n",
        "  for i in range(0, len(filepaths), 16):\n",
        "    imgs = []\n",
        "    poses = []\n",
        "    landmarks = []\n",
        "    for path in filepaths[i:i+16]:\n",
        "      mat = loadmat(path + \".mat\")\n",
        "      img = plt.imread(path + \".jpg\")\n",
        "      img = img.astype(\"float32\") / 255.0\n",
        "      imgs.append(img)\n",
        "      pose =  mat[\"Pose_Para\"][0][0:3]\n",
        "      poses.append(pose)\n",
        "      points = mat[\"pt2d\"].transpose().reshape((-1, 136)).squeeze() / 450\n",
        "      landmarks.append(points)\n",
        "    yield ( np.array(imgs), {\"pose\" : np.array(poses), \"landmarks\" : np.array(landmarks)})\n",
        "\n",
        "def generate_test():\n",
        "  for i in range(0, len(test_filepaths), 16):\n",
        "    imgs = []\n",
        "    poses = []\n",
        "    landmarks = []\n",
        "    for path in filepaths[i:i+16]:\n",
        "      mat = loadmat(path + \".mat\")\n",
        "      img = plt.imread(path + \".jpg\")\n",
        "      img = img.astype(\"float32\") / 255.0\n",
        "      imgs.append(img)\n",
        "      pose =  mat[\"Pose_Para\"][0][0:3]\n",
        "      poses.append(pose)\n",
        "      points = mat[\"pt2d\"].transpose().reshape((-1, 136)).squeeze() / 450\n",
        "      landmarks.append(points)\n",
        "    yield ( np.array(imgs), {\"pose\" : np.array(poses), \"landmarks\" : np.array(landmarks)})\n",
        "\n",
        "\n",
        "ds = tf.data.Dataset.from_generator(\n",
        "    generate,\n",
        "    output_types=(tf.float64,{\"pose\": tf.float64, \"landmarks\": tf.float64})\n",
        ")\n",
        "test_ds = tf.data.Dataset.from_generator(\n",
        "    generate_test,\n",
        "    output_types=(tf.float64,{\"pose\": tf.float64, \"landmarks\": tf.float64})\n",
        ")\n",
        "\n",
        "TF_DATASETS = os.path.join(PROJECT_FILEPATH, \"datasets\", \"tf-datasets\")\n",
        "\n",
        "ds.cache()\n",
        "test_ds.cache()\n",
        "for record in test_ds.take(2):\n",
        "  print(record[0].numpy().shape)\n",
        "\n",
        "\n",
        "# for i in range(0, 5):\n",
        "#   record_batch_size = 500\n",
        "#   print(\"Test\", i*record_batch_size, min((i+1)*record_batch_size, filepaths.shape[0]), filepaths.shape[0])\n",
        "#   fp = filepaths[i*record_batch_size:min((i+1)*record_batch_size: filepaths.shape[0])]\n",
        "#   images, labels = get_examples(fp)\n",
        "#   print(images.shape, labels.shape)\n",
        "#   total_dataset_count = fp.shape[0]\n",
        "#   train_count = math.floor(total_dataset_count*0.65)\n",
        "#   val_count = math.floor(total_dataset_count*0.1)\n",
        "#   test_count = total_dataset_count - (train_count + val_count)\n",
        "#   convert_batch(f\"cropped-train-{i}.tfrecord.gz\", images, labels, 0, train_count)\n",
        "#   convert_batch(f\"cropped-val-{i}.tfrecord.gz\", images, labels, train_count+1, train_count+1+val_count)\n",
        "#   convert_batch(f\"cropped-test-{i}.tfrecord.gz\", images, labels, train_count+val_count+1, total_dataset_count)\n"
      ],
      "execution_count": 8,
      "outputs": [
        {
          "output_type": "stream",
          "text": [
            "(16, 450, 450, 3)\n",
            "(16, 450, 450, 3)\n"
          ],
          "name": "stdout"
        }
      ]
    },
    {
      "cell_type": "markdown",
      "metadata": {
        "id": "I8nXeY8TyBnk"
      },
      "source": [
        "## [PFLD Model](https://arxiv.org/pdf/1902.10859.pdf)\n"
      ]
    },
    {
      "cell_type": "code",
      "metadata": {
        "id": "cyI6el6RyMM_"
      },
      "source": [
        "\n",
        "def relu6(x):\n",
        "  return tf.clip_by_value(x, 0, 6)\n",
        "\n",
        "def mobilenet_block(x:layers.Layer, t=2, c=64, s=2):\n",
        "  \"\"\"\n",
        "  MoblieNetv2 residual block\n",
        "  Arguments\n",
        "  -----------\n",
        "    x: keras layer input\n",
        "    t: expansion factor based on size of input layer\n",
        "    c: number of input channels\n",
        "    s: stride width/height\n",
        "  \"\"\"\n",
        "  in_channels = x.shape[-1]\n",
        "  if in_channels != c:\n",
        "    x = layers.Conv2D(c, (1,1), strides=(1,1), padding=\"same\")(x) \n",
        "  l = layers.Conv2D(c * t, (1,1), strides=(1,1), padding=\"same\")(x) \n",
        "  l = layers.Activation(relu6)(l)\n",
        "  l = layers.BatchNormalization()(l)\n",
        "  l = layers.DepthwiseConv2D((s,s), padding=\"same\")(l)\n",
        "  l = layers.Activation(relu6)(l)\n",
        "  l = layers.BatchNormalization()(l)\n",
        "  l = layers.Conv2D(c, (1,1), strides=(1,1), padding=\"same\")(l)\n",
        "  return layers.Add()([l,x])\n",
        "\n",
        "def create_PFLD_model(input_shape, training=True):\n",
        "  \"\"\"\n",
        "  Builds a backbone model that takes in an image and outputs 68 landmark locations.\n",
        "  If training is true, it attaches the aux model\n",
        "  \"\"\"\n",
        "  input_layer = layers.Input(input_shape, name=\"model_input\")\n",
        "  x = layers.Conv2D(32,(3,3), strides=(2,2), activation=\"relu\", padding=\"same\")(input_layer)\n",
        "  x = layers.DepthwiseConv2D(32, strides=(1,1), activation=\"relu\")(x)\n",
        "  for _ in range(5):\n",
        "    x = mobilenet_block(x, t=2, c=16, s=2)\n",
        "  aux_in = mobilenet_block(x, t=2, c=32, s=2)\n",
        "  aux_out = create_aux_model(aux_in)\n",
        "  x = aux_in\n",
        "  for _ in range(6):\n",
        "    x = mobilenet_block(x, t=3, c=32, s=2)\n",
        "  x = mobilenet_block(x, t=2, c=8, s=2) \n",
        "\n",
        "  x = layers.Conv2D(16,(3,3), strides=(2,2), activation=\"relu\")(x)\n",
        "  x = layers.Conv2D(16,(7,7), strides=(4,4), activation=\"relu\")(x)\n",
        "  x = layers.Flatten()(x)\n",
        "  x = layers.Dense(136, activation=\"relu\", name=\"landmarks\")(x)\n",
        "  PFLD =  Model(name=\"PFLM_Backbone\", inputs=input_layer, outputs=[x, aux_out])\n",
        "  return PFLD\n",
        "  \n",
        "  \n",
        "\n",
        "\n",
        "def create_aux_model(input_layer: layers.Layer):\n",
        "  \"\"\"\n",
        "  Auxiliary model takes in the latent image representation from the MobileNet\n",
        "  layers and produces an estimate of the pitch, yaw and roll of the face\n",
        "  \"\"\"\n",
        "\n",
        "  x = input_layer\n",
        "  x = layers.Conv2D(128, (3,3), strides=(2,2), activation=\"relu\")(x)\n",
        "  x = layers.Conv2D(128, (3,3), strides=(1,1), activation=\"relu\")(x)\n",
        "  x = layers.Conv2D(32, (3,3), strides=(2,2), activation=\"relu\")(x)\n",
        "  x = layers.Conv2D(128, (7,7), strides=(1,1), activation=\"relu\")(x)\n",
        "  x = layers.Flatten()(x)\n",
        "  x = layers.Dense(32, activation=\"relu\")(x)\n",
        "  return layers.Dense(3, activation=\"relu\", name=\"pose\")(x)\n",
        "\n",
        "\n",
        "\n",
        "\n"
      ],
      "execution_count": 10,
      "outputs": []
    },
    {
      "cell_type": "code",
      "metadata": {
        "id": "bGa1u3VmCSal",
        "colab": {
          "base_uri": "https://localhost:8080/"
        },
        "outputId": "3ec88f60-b2f6-45fe-d953-5cbe6a14823d"
      },
      "source": [
        "opt = tf.keras.optimizers.Adam()\n",
        "model = create_PFLD_model((450,450,3))\n",
        "\n",
        "model.compile(optimizer=opt, loss={\"landmarks\": \"mse\", \"pose\": \"mse\"}, metrics={\"landmarks\": tf.keras.metrics.RootMeanSquaredError(), \"pose\": tf.keras.metrics.RootMeanSquaredError()})\n",
        "model.summary()"
      ],
      "execution_count": 11,
      "outputs": [
        {
          "output_type": "stream",
          "text": [
            "Model: \"PFLM_Backbone\"\n",
            "__________________________________________________________________________________________________\n",
            "Layer (type)                    Output Shape         Param #     Connected to                     \n",
            "==================================================================================================\n",
            "model_input (InputLayer)        [(None, 450, 450, 3) 0                                            \n",
            "__________________________________________________________________________________________________\n",
            "conv2d (Conv2D)                 (None, 225, 225, 32) 896         model_input[0][0]                \n",
            "__________________________________________________________________________________________________\n",
            "depthwise_conv2d (DepthwiseConv (None, 194, 194, 32) 32800       conv2d[0][0]                     \n",
            "__________________________________________________________________________________________________\n",
            "conv2d_1 (Conv2D)               (None, 194, 194, 16) 528         depthwise_conv2d[0][0]           \n",
            "__________________________________________________________________________________________________\n",
            "conv2d_2 (Conv2D)               (None, 194, 194, 32) 544         conv2d_1[0][0]                   \n",
            "__________________________________________________________________________________________________\n",
            "activation (Activation)         (None, 194, 194, 32) 0           conv2d_2[0][0]                   \n",
            "__________________________________________________________________________________________________\n",
            "batch_normalization (BatchNorma (None, 194, 194, 32) 128         activation[0][0]                 \n",
            "__________________________________________________________________________________________________\n",
            "depthwise_conv2d_1 (DepthwiseCo (None, 194, 194, 32) 160         batch_normalization[0][0]        \n",
            "__________________________________________________________________________________________________\n",
            "activation_1 (Activation)       (None, 194, 194, 32) 0           depthwise_conv2d_1[0][0]         \n",
            "__________________________________________________________________________________________________\n",
            "batch_normalization_1 (BatchNor (None, 194, 194, 32) 128         activation_1[0][0]               \n",
            "__________________________________________________________________________________________________\n",
            "conv2d_3 (Conv2D)               (None, 194, 194, 16) 528         batch_normalization_1[0][0]      \n",
            "__________________________________________________________________________________________________\n",
            "add (Add)                       (None, 194, 194, 16) 0           conv2d_3[0][0]                   \n",
            "                                                                 conv2d_1[0][0]                   \n",
            "__________________________________________________________________________________________________\n",
            "conv2d_4 (Conv2D)               (None, 194, 194, 32) 544         add[0][0]                        \n",
            "__________________________________________________________________________________________________\n",
            "activation_2 (Activation)       (None, 194, 194, 32) 0           conv2d_4[0][0]                   \n",
            "__________________________________________________________________________________________________\n",
            "batch_normalization_2 (BatchNor (None, 194, 194, 32) 128         activation_2[0][0]               \n",
            "__________________________________________________________________________________________________\n",
            "depthwise_conv2d_2 (DepthwiseCo (None, 194, 194, 32) 160         batch_normalization_2[0][0]      \n",
            "__________________________________________________________________________________________________\n",
            "activation_3 (Activation)       (None, 194, 194, 32) 0           depthwise_conv2d_2[0][0]         \n",
            "__________________________________________________________________________________________________\n",
            "batch_normalization_3 (BatchNor (None, 194, 194, 32) 128         activation_3[0][0]               \n",
            "__________________________________________________________________________________________________\n",
            "conv2d_5 (Conv2D)               (None, 194, 194, 16) 528         batch_normalization_3[0][0]      \n",
            "__________________________________________________________________________________________________\n",
            "add_1 (Add)                     (None, 194, 194, 16) 0           conv2d_5[0][0]                   \n",
            "                                                                 add[0][0]                        \n",
            "__________________________________________________________________________________________________\n",
            "conv2d_6 (Conv2D)               (None, 194, 194, 32) 544         add_1[0][0]                      \n",
            "__________________________________________________________________________________________________\n",
            "activation_4 (Activation)       (None, 194, 194, 32) 0           conv2d_6[0][0]                   \n",
            "__________________________________________________________________________________________________\n",
            "batch_normalization_4 (BatchNor (None, 194, 194, 32) 128         activation_4[0][0]               \n",
            "__________________________________________________________________________________________________\n",
            "depthwise_conv2d_3 (DepthwiseCo (None, 194, 194, 32) 160         batch_normalization_4[0][0]      \n",
            "__________________________________________________________________________________________________\n",
            "activation_5 (Activation)       (None, 194, 194, 32) 0           depthwise_conv2d_3[0][0]         \n",
            "__________________________________________________________________________________________________\n",
            "batch_normalization_5 (BatchNor (None, 194, 194, 32) 128         activation_5[0][0]               \n",
            "__________________________________________________________________________________________________\n",
            "conv2d_7 (Conv2D)               (None, 194, 194, 16) 528         batch_normalization_5[0][0]      \n",
            "__________________________________________________________________________________________________\n",
            "add_2 (Add)                     (None, 194, 194, 16) 0           conv2d_7[0][0]                   \n",
            "                                                                 add_1[0][0]                      \n",
            "__________________________________________________________________________________________________\n",
            "conv2d_8 (Conv2D)               (None, 194, 194, 32) 544         add_2[0][0]                      \n",
            "__________________________________________________________________________________________________\n",
            "activation_6 (Activation)       (None, 194, 194, 32) 0           conv2d_8[0][0]                   \n",
            "__________________________________________________________________________________________________\n",
            "batch_normalization_6 (BatchNor (None, 194, 194, 32) 128         activation_6[0][0]               \n",
            "__________________________________________________________________________________________________\n",
            "depthwise_conv2d_4 (DepthwiseCo (None, 194, 194, 32) 160         batch_normalization_6[0][0]      \n",
            "__________________________________________________________________________________________________\n",
            "activation_7 (Activation)       (None, 194, 194, 32) 0           depthwise_conv2d_4[0][0]         \n",
            "__________________________________________________________________________________________________\n",
            "batch_normalization_7 (BatchNor (None, 194, 194, 32) 128         activation_7[0][0]               \n",
            "__________________________________________________________________________________________________\n",
            "conv2d_9 (Conv2D)               (None, 194, 194, 16) 528         batch_normalization_7[0][0]      \n",
            "__________________________________________________________________________________________________\n",
            "add_3 (Add)                     (None, 194, 194, 16) 0           conv2d_9[0][0]                   \n",
            "                                                                 add_2[0][0]                      \n",
            "__________________________________________________________________________________________________\n",
            "conv2d_10 (Conv2D)              (None, 194, 194, 32) 544         add_3[0][0]                      \n",
            "__________________________________________________________________________________________________\n",
            "activation_8 (Activation)       (None, 194, 194, 32) 0           conv2d_10[0][0]                  \n",
            "__________________________________________________________________________________________________\n",
            "batch_normalization_8 (BatchNor (None, 194, 194, 32) 128         activation_8[0][0]               \n",
            "__________________________________________________________________________________________________\n",
            "depthwise_conv2d_5 (DepthwiseCo (None, 194, 194, 32) 160         batch_normalization_8[0][0]      \n",
            "__________________________________________________________________________________________________\n",
            "activation_9 (Activation)       (None, 194, 194, 32) 0           depthwise_conv2d_5[0][0]         \n",
            "__________________________________________________________________________________________________\n",
            "batch_normalization_9 (BatchNor (None, 194, 194, 32) 128         activation_9[0][0]               \n",
            "__________________________________________________________________________________________________\n",
            "conv2d_11 (Conv2D)              (None, 194, 194, 16) 528         batch_normalization_9[0][0]      \n",
            "__________________________________________________________________________________________________\n",
            "add_4 (Add)                     (None, 194, 194, 16) 0           conv2d_11[0][0]                  \n",
            "                                                                 add_3[0][0]                      \n",
            "__________________________________________________________________________________________________\n",
            "conv2d_12 (Conv2D)              (None, 194, 194, 32) 544         add_4[0][0]                      \n",
            "__________________________________________________________________________________________________\n",
            "conv2d_13 (Conv2D)              (None, 194, 194, 64) 2112        conv2d_12[0][0]                  \n",
            "__________________________________________________________________________________________________\n",
            "activation_10 (Activation)      (None, 194, 194, 64) 0           conv2d_13[0][0]                  \n",
            "__________________________________________________________________________________________________\n",
            "batch_normalization_10 (BatchNo (None, 194, 194, 64) 256         activation_10[0][0]              \n",
            "__________________________________________________________________________________________________\n",
            "depthwise_conv2d_6 (DepthwiseCo (None, 194, 194, 64) 320         batch_normalization_10[0][0]     \n",
            "__________________________________________________________________________________________________\n",
            "activation_11 (Activation)      (None, 194, 194, 64) 0           depthwise_conv2d_6[0][0]         \n",
            "__________________________________________________________________________________________________\n",
            "batch_normalization_11 (BatchNo (None, 194, 194, 64) 256         activation_11[0][0]              \n",
            "__________________________________________________________________________________________________\n",
            "conv2d_14 (Conv2D)              (None, 194, 194, 32) 2080        batch_normalization_11[0][0]     \n",
            "__________________________________________________________________________________________________\n",
            "add_5 (Add)                     (None, 194, 194, 32) 0           conv2d_14[0][0]                  \n",
            "                                                                 conv2d_12[0][0]                  \n",
            "__________________________________________________________________________________________________\n",
            "conv2d_19 (Conv2D)              (None, 194, 194, 96) 3168        add_5[0][0]                      \n",
            "__________________________________________________________________________________________________\n",
            "activation_12 (Activation)      (None, 194, 194, 96) 0           conv2d_19[0][0]                  \n",
            "__________________________________________________________________________________________________\n",
            "batch_normalization_12 (BatchNo (None, 194, 194, 96) 384         activation_12[0][0]              \n",
            "__________________________________________________________________________________________________\n",
            "depthwise_conv2d_7 (DepthwiseCo (None, 194, 194, 96) 480         batch_normalization_12[0][0]     \n",
            "__________________________________________________________________________________________________\n",
            "activation_13 (Activation)      (None, 194, 194, 96) 0           depthwise_conv2d_7[0][0]         \n",
            "__________________________________________________________________________________________________\n",
            "batch_normalization_13 (BatchNo (None, 194, 194, 96) 384         activation_13[0][0]              \n",
            "__________________________________________________________________________________________________\n",
            "conv2d_20 (Conv2D)              (None, 194, 194, 32) 3104        batch_normalization_13[0][0]     \n",
            "__________________________________________________________________________________________________\n",
            "add_6 (Add)                     (None, 194, 194, 32) 0           conv2d_20[0][0]                  \n",
            "                                                                 add_5[0][0]                      \n",
            "__________________________________________________________________________________________________\n",
            "conv2d_21 (Conv2D)              (None, 194, 194, 96) 3168        add_6[0][0]                      \n",
            "__________________________________________________________________________________________________\n",
            "activation_14 (Activation)      (None, 194, 194, 96) 0           conv2d_21[0][0]                  \n",
            "__________________________________________________________________________________________________\n",
            "batch_normalization_14 (BatchNo (None, 194, 194, 96) 384         activation_14[0][0]              \n",
            "__________________________________________________________________________________________________\n",
            "depthwise_conv2d_8 (DepthwiseCo (None, 194, 194, 96) 480         batch_normalization_14[0][0]     \n",
            "__________________________________________________________________________________________________\n",
            "activation_15 (Activation)      (None, 194, 194, 96) 0           depthwise_conv2d_8[0][0]         \n",
            "__________________________________________________________________________________________________\n",
            "batch_normalization_15 (BatchNo (None, 194, 194, 96) 384         activation_15[0][0]              \n",
            "__________________________________________________________________________________________________\n",
            "conv2d_22 (Conv2D)              (None, 194, 194, 32) 3104        batch_normalization_15[0][0]     \n",
            "__________________________________________________________________________________________________\n",
            "add_7 (Add)                     (None, 194, 194, 32) 0           conv2d_22[0][0]                  \n",
            "                                                                 add_6[0][0]                      \n",
            "__________________________________________________________________________________________________\n",
            "conv2d_23 (Conv2D)              (None, 194, 194, 96) 3168        add_7[0][0]                      \n",
            "__________________________________________________________________________________________________\n",
            "activation_16 (Activation)      (None, 194, 194, 96) 0           conv2d_23[0][0]                  \n",
            "__________________________________________________________________________________________________\n",
            "batch_normalization_16 (BatchNo (None, 194, 194, 96) 384         activation_16[0][0]              \n",
            "__________________________________________________________________________________________________\n",
            "depthwise_conv2d_9 (DepthwiseCo (None, 194, 194, 96) 480         batch_normalization_16[0][0]     \n",
            "__________________________________________________________________________________________________\n",
            "activation_17 (Activation)      (None, 194, 194, 96) 0           depthwise_conv2d_9[0][0]         \n",
            "__________________________________________________________________________________________________\n",
            "batch_normalization_17 (BatchNo (None, 194, 194, 96) 384         activation_17[0][0]              \n",
            "__________________________________________________________________________________________________\n",
            "conv2d_24 (Conv2D)              (None, 194, 194, 32) 3104        batch_normalization_17[0][0]     \n",
            "__________________________________________________________________________________________________\n",
            "add_8 (Add)                     (None, 194, 194, 32) 0           conv2d_24[0][0]                  \n",
            "                                                                 add_7[0][0]                      \n",
            "__________________________________________________________________________________________________\n",
            "conv2d_25 (Conv2D)              (None, 194, 194, 96) 3168        add_8[0][0]                      \n",
            "__________________________________________________________________________________________________\n",
            "activation_18 (Activation)      (None, 194, 194, 96) 0           conv2d_25[0][0]                  \n",
            "__________________________________________________________________________________________________\n",
            "batch_normalization_18 (BatchNo (None, 194, 194, 96) 384         activation_18[0][0]              \n",
            "__________________________________________________________________________________________________\n",
            "depthwise_conv2d_10 (DepthwiseC (None, 194, 194, 96) 480         batch_normalization_18[0][0]     \n",
            "__________________________________________________________________________________________________\n",
            "activation_19 (Activation)      (None, 194, 194, 96) 0           depthwise_conv2d_10[0][0]        \n",
            "__________________________________________________________________________________________________\n",
            "batch_normalization_19 (BatchNo (None, 194, 194, 96) 384         activation_19[0][0]              \n",
            "__________________________________________________________________________________________________\n",
            "conv2d_26 (Conv2D)              (None, 194, 194, 32) 3104        batch_normalization_19[0][0]     \n",
            "__________________________________________________________________________________________________\n",
            "add_9 (Add)                     (None, 194, 194, 32) 0           conv2d_26[0][0]                  \n",
            "                                                                 add_8[0][0]                      \n",
            "__________________________________________________________________________________________________\n",
            "conv2d_27 (Conv2D)              (None, 194, 194, 96) 3168        add_9[0][0]                      \n",
            "__________________________________________________________________________________________________\n",
            "activation_20 (Activation)      (None, 194, 194, 96) 0           conv2d_27[0][0]                  \n",
            "__________________________________________________________________________________________________\n",
            "batch_normalization_20 (BatchNo (None, 194, 194, 96) 384         activation_20[0][0]              \n",
            "__________________________________________________________________________________________________\n",
            "depthwise_conv2d_11 (DepthwiseC (None, 194, 194, 96) 480         batch_normalization_20[0][0]     \n",
            "__________________________________________________________________________________________________\n",
            "activation_21 (Activation)      (None, 194, 194, 96) 0           depthwise_conv2d_11[0][0]        \n",
            "__________________________________________________________________________________________________\n",
            "batch_normalization_21 (BatchNo (None, 194, 194, 96) 384         activation_21[0][0]              \n",
            "__________________________________________________________________________________________________\n",
            "conv2d_28 (Conv2D)              (None, 194, 194, 32) 3104        batch_normalization_21[0][0]     \n",
            "__________________________________________________________________________________________________\n",
            "add_10 (Add)                    (None, 194, 194, 32) 0           conv2d_28[0][0]                  \n",
            "                                                                 add_9[0][0]                      \n",
            "__________________________________________________________________________________________________\n",
            "conv2d_29 (Conv2D)              (None, 194, 194, 96) 3168        add_10[0][0]                     \n",
            "__________________________________________________________________________________________________\n",
            "activation_22 (Activation)      (None, 194, 194, 96) 0           conv2d_29[0][0]                  \n",
            "__________________________________________________________________________________________________\n",
            "batch_normalization_22 (BatchNo (None, 194, 194, 96) 384         activation_22[0][0]              \n",
            "__________________________________________________________________________________________________\n",
            "depthwise_conv2d_12 (DepthwiseC (None, 194, 194, 96) 480         batch_normalization_22[0][0]     \n",
            "__________________________________________________________________________________________________\n",
            "activation_23 (Activation)      (None, 194, 194, 96) 0           depthwise_conv2d_12[0][0]        \n",
            "__________________________________________________________________________________________________\n",
            "batch_normalization_23 (BatchNo (None, 194, 194, 96) 384         activation_23[0][0]              \n",
            "__________________________________________________________________________________________________\n",
            "conv2d_30 (Conv2D)              (None, 194, 194, 32) 3104        batch_normalization_23[0][0]     \n",
            "__________________________________________________________________________________________________\n",
            "add_11 (Add)                    (None, 194, 194, 32) 0           conv2d_30[0][0]                  \n",
            "                                                                 add_10[0][0]                     \n",
            "__________________________________________________________________________________________________\n",
            "conv2d_31 (Conv2D)              (None, 194, 194, 8)  264         add_11[0][0]                     \n",
            "__________________________________________________________________________________________________\n",
            "conv2d_32 (Conv2D)              (None, 194, 194, 16) 144         conv2d_31[0][0]                  \n",
            "__________________________________________________________________________________________________\n",
            "activation_24 (Activation)      (None, 194, 194, 16) 0           conv2d_32[0][0]                  \n",
            "__________________________________________________________________________________________________\n",
            "batch_normalization_24 (BatchNo (None, 194, 194, 16) 64          activation_24[0][0]              \n",
            "__________________________________________________________________________________________________\n",
            "depthwise_conv2d_13 (DepthwiseC (None, 194, 194, 16) 80          batch_normalization_24[0][0]     \n",
            "__________________________________________________________________________________________________\n",
            "activation_25 (Activation)      (None, 194, 194, 16) 0           depthwise_conv2d_13[0][0]        \n",
            "__________________________________________________________________________________________________\n",
            "batch_normalization_25 (BatchNo (None, 194, 194, 16) 64          activation_25[0][0]              \n",
            "__________________________________________________________________________________________________\n",
            "conv2d_15 (Conv2D)              (None, 96, 96, 128)  36992       add_5[0][0]                      \n",
            "__________________________________________________________________________________________________\n",
            "conv2d_33 (Conv2D)              (None, 194, 194, 8)  136         batch_normalization_25[0][0]     \n",
            "__________________________________________________________________________________________________\n",
            "conv2d_16 (Conv2D)              (None, 94, 94, 128)  147584      conv2d_15[0][0]                  \n",
            "__________________________________________________________________________________________________\n",
            "add_12 (Add)                    (None, 194, 194, 8)  0           conv2d_33[0][0]                  \n",
            "                                                                 conv2d_31[0][0]                  \n",
            "__________________________________________________________________________________________________\n",
            "conv2d_17 (Conv2D)              (None, 46, 46, 32)   36896       conv2d_16[0][0]                  \n",
            "__________________________________________________________________________________________________\n",
            "conv2d_34 (Conv2D)              (None, 96, 96, 16)   1168        add_12[0][0]                     \n",
            "__________________________________________________________________________________________________\n",
            "conv2d_18 (Conv2D)              (None, 40, 40, 128)  200832      conv2d_17[0][0]                  \n",
            "__________________________________________________________________________________________________\n",
            "conv2d_35 (Conv2D)              (None, 23, 23, 16)   12560       conv2d_34[0][0]                  \n",
            "__________________________________________________________________________________________________\n",
            "flatten (Flatten)               (None, 204800)       0           conv2d_18[0][0]                  \n",
            "__________________________________________________________________________________________________\n",
            "flatten_1 (Flatten)             (None, 8464)         0           conv2d_35[0][0]                  \n",
            "__________________________________________________________________________________________________\n",
            "dense (Dense)                   (None, 32)           6553632     flatten[0][0]                    \n",
            "__________________________________________________________________________________________________\n",
            "landmarks (Dense)               (None, 136)          1151240     flatten_1[0][0]                  \n",
            "__________________________________________________________________________________________________\n",
            "pose (Dense)                    (None, 3)            99          dense[0][0]                      \n",
            "==================================================================================================\n",
            "Total params: 8,234,107\n",
            "Trainable params: 8,230,843\n",
            "Non-trainable params: 3,264\n",
            "__________________________________________________________________________________________________\n"
          ],
          "name": "stdout"
        }
      ]
    },
    {
      "cell_type": "code",
      "metadata": {
        "id": "KT9ovTyQQjzb"
      },
      "source": [
        "from tensorflow.keras.models import load_model\n",
        "SHOULD_TRAIN = False\n",
        "if SHOULD_TRAIN:\n",
        "  cp_filepath = os.path.join(PROJECT_FILEPATH, \"models\", \"PFLD_Checkpoints\")\n",
        "  checkpoint = tf.keras.callbacks.ModelCheckpoint(filepath=cp_filepath, save_best_only=True)\n",
        "  model.fit(ds, epochs=50, batch_size=5, callbacks = [checkpoint])\n",
        "else:\n",
        "  model_path = os.path.join(PROJECT_FILEPATH, \"models\", \"PFLD.h5\")\n",
        "  model = load_model(model_path, custom_objects={\"relu6\": relu6})"
      ],
      "execution_count": 12,
      "outputs": []
    },
    {
      "cell_type": "code",
      "metadata": {
        "id": "QII3szPFBNFn",
        "outputId": "c895a5bc-79c5-4b62-e259-fd5dfb291255",
        "colab": {
          "base_uri": "https://localhost:8080/"
        }
      },
      "source": [
        "model.evaluate(test_ds, batch_size=16, return_dict=True)"
      ],
      "execution_count": 13,
      "outputs": [
        {
          "output_type": "stream",
          "text": [
            "65/65 [==============================] - 1011s 16s/step - loss: 0.0868 - landmarks_loss: 0.0255 - pose_loss: 0.0613 - landmarks_root_mean_squared_error: 0.1597 - pose_root_mean_squared_error: 0.2475\n"
          ],
          "name": "stdout"
        },
        {
          "output_type": "execute_result",
          "data": {
            "text/plain": [
              "{'landmarks_loss': 0.02550923451781273,\n",
              " 'landmarks_root_mean_squared_error': 0.15971609950065613,\n",
              " 'loss': 0.08678169548511505,\n",
              " 'pose_loss': 0.06127246096730232,\n",
              " 'pose_root_mean_squared_error': 0.24753278493881226}"
            ]
          },
          "metadata": {
            "tags": []
          },
          "execution_count": 13
        }
      ]
    },
    {
      "cell_type": "code",
      "metadata": {
        "id": "3IZ5JacjGdyt"
      },
      "source": [
        "# pd.DataFrame(model.history.history).plot()\n",
        "images = ds.take(1).map(lambda x,y : x)\n",
        "landmarks, poses = model.predict(images)\n",
        "landmarks = landmarks *450"
      ],
      "execution_count": null,
      "outputs": []
    },
    {
      "cell_type": "code",
      "metadata": {
        "id": "_MSTZoFbHLMw"
      },
      "source": [
        "#@title View Predicted Images\n",
        "image_index = 9 #@param {type:\"slider\", min:1, max:16, step:1}\n",
        "points = landmarks * 450\n",
        "i = 0\n",
        "for batch in images:\n",
        "  for img in batch:\n",
        "    if (i == image_index):\n",
        "      \n",
        "      display_landmarks(tf.reshape(img, (450,450,3)), landmarks[image_index])\n",
        "      break\n",
        "    i += 1"
      ],
      "execution_count": null,
      "outputs": []
    },
    {
      "cell_type": "code",
      "metadata": {
        "id": "n46JksUYZiCn"
      },
      "source": [
        ""
      ],
      "execution_count": null,
      "outputs": []
    }
  ]
}