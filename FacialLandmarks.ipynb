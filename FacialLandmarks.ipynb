{
  "nbformat": 4,
  "nbformat_minor": 0,
  "metadata": {
    "colab": {
      "name": "FacialLandmarks.ipynb",
      "provenance": [],
      "collapsed_sections": [],
      "include_colab_link": true
    },
    "kernelspec": {
      "name": "python3",
      "display_name": "Python 3"
    },
    "language_info": {
      "name": "python"
    }
  },
  "cells": [
    {
      "cell_type": "markdown",
      "metadata": {
        "id": "view-in-github",
        "colab_type": "text"
      },
      "source": [
        "<a href=\"https://colab.research.google.com/github/Waidhoferj/CSC-566-Project/blob/PFLD/FacialLandmarks.ipynb\" target=\"_parent\"><img src=\"https://colab.research.google.com/assets/colab-badge.svg\" alt=\"Open In Colab\"/></a>"
      ]
    },
    {
      "cell_type": "markdown",
      "metadata": {
        "id": "0EJZwDvM21EV"
      },
      "source": [
        "# Facial Landmarks\n",
        "Experimentation with facial landmarks models and datasets."
      ]
    },
    {
      "cell_type": "code",
      "metadata": {
        "id": "MQFjoPKY-ZaY"
      },
      "source": [
        "import numpy as np\n",
        "import matplotlib.pyplot as plt\n",
        "from matplotlib.patches import Circle\n",
        "import pandas as pd\n",
        "import tensorflow as tf\n",
        "from tensorflow.keras.models import Model, Sequential\n",
        "from tensorflow.keras import layers\n",
        "from google.colab import drive\n",
        "import os\n",
        "from scipy.io import loadmat\n",
        "import random"
      ],
      "execution_count": 2,
      "outputs": []
    },
    {
      "cell_type": "code",
      "metadata": {
        "id": "LCIThEi--w0H",
        "colab": {
          "base_uri": "https://localhost:8080/"
        },
        "outputId": "a6f32c58-80ee-4411-c477-62b21ebe3703"
      },
      "source": [
        "drive.mount('/content/drive')"
      ],
      "execution_count": null,
      "outputs": [
        {
          "output_type": "stream",
          "text": [
            "Mounted at /content/drive\n"
          ],
          "name": "stdout"
        }
      ]
    },
    {
      "cell_type": "markdown",
      "metadata": {
        "id": "ZXe9WUnF2_O3"
      },
      "source": [
        "Add your name and filepath to the project folder so that you can load the datasets.\n"
      ]
    },
    {
      "cell_type": "code",
      "metadata": {
        "id": "ngxIBPhm1Q80"
      },
      "source": [
        "USER = \"Jeremy\"\n",
        "USER_FILEPATHS = {\n",
        "    \"John\" : \"/content/drive/MyDrive/CSC 566 Project\",\n",
        "    \"Jeremy\" : \"/content/drive/MyDrive/School/Undergrad/2021 Spring/CSC 566/CSC 566 Project\",\n",
        "    \"Ty\" : \"/content/drive/MyDrive/CSC 566 Project\"\n",
        "}\n",
        "PROJECT_FILEPATH = USER_FILEPATHS[USER]"
      ],
      "execution_count": null,
      "outputs": []
    },
    {
      "cell_type": "markdown",
      "metadata": {
        "id": "wcX_vDf3BcjR"
      },
      "source": [
        "## Data Preparation"
      ]
    },
    {
      "cell_type": "code",
      "metadata": {
        "id": "PpSQj0yh2UTF"
      },
      "source": [
        "# Sanity check for loading data\n",
        "def display_landmarks(img, points):\n",
        "  \"\"\"\n",
        "  Displays portrait with landmark dots drawn on the face.\n",
        "  Assumes that points are in (68,2)\n",
        "  \"\"\"\n",
        "  #If we are reading from .mat files directly (2,68)\n",
        "  if points.shape[0] == 2:\n",
        "    points = points.transpose(1,0)\n",
        "  #If reading from model output\n",
        "  elif len(points.shape) == 1:\n",
        "    points = points.reshape(-1,2)\n",
        "  fig,ax = plt.subplots(1)\n",
        "  ax.set_aspect('equal')\n",
        "  ax.imshow(img)\n",
        "  for p in points:\n",
        "      circ = Circle(p)\n",
        "      ax.add_patch(circ)\n",
        "  plt.show()\n",
        "\n",
        "#points = loadmat(AFW_DATASET + \"/70037463_1.mat\")[\"pt2d\"]\n",
        "#img  = plt.imread( AFW_DATASET+\"/70037463_1.jpg\")\n",
        "\n",
        "#display_landmarks(img,points)\n",
        "\n"
      ],
      "execution_count": null,
      "outputs": []
    },
    {
      "cell_type": "code",
      "metadata": {
        "id": "k-39rOKd3deP"
      },
      "source": [
        "import tensorflow as tf\n",
        "\n",
        "DATALOADER_BASE_PATH = PROJECT_FILEPATH + \"/datasets/tf-datasets\"\n",
        "USE_CROPPED_IMAGES = False\n",
        "DATASET_PREFIX = \"cropped-\" if USE_CROPPED_IMAGES else \"\"\n",
        "\n",
        "class DataLoader:\n",
        "\n",
        "  IMAGE_SHAPE = (256, 256, 3) if USE_CROPPED_IMAGES else (450, 450, 3)\n",
        "  LANDMARKS_SHAPE = (136,)\n",
        "\n",
        "  BATCH_SIZE = 16\n",
        "  TRAIN_PATHS = [f\"{DATALOADER_BASE_PATH}/{DATASET_PREFIX}train-{i}.tfrecord.gz\" for i in range(5)]\n",
        "  VAL_PATHS = [f\"{DATALOADER_BASE_PATH}/{DATASET_PREFIX}val-{i}.tfrecord.gz\" for i in range(5)]\n",
        "  TEST_PATHS = [f\"{DATALOADER_BASE_PATH}/{DATASET_PREFIX}test-{i}.tfrecord.gz\" for i in range(5)]\n",
        "\n",
        "  def load_datasets():\n",
        "    dl = DataLoader()\n",
        "    return (dl.__load_dataset(DataLoader.TRAIN_PATHS, DataLoader.BATCH_SIZE),\n",
        "            dl.__load_dataset(DataLoader.VAL_PATHS, DataLoader.BATCH_SIZE),\n",
        "            dl.__load_dataset(DataLoader.TEST_PATHS, 1))\n",
        "\n",
        "  def __load_dataset(self, filepath, batch_size):\n",
        "    dataset = tf.data.TFRecordDataset([filepath], compression_type=\"GZIP\")\n",
        "    dataset = dataset.map(self.__parse_example, num_parallel_calls=tf.data.AUTOTUNE)\n",
        "    dataset = dataset.map(self.__reshape_entry, num_parallel_calls=tf.data.AUTOTUNE)\n",
        "    dataset.cache() # Cache the above map operations so they aren't re-run every epoch\n",
        "    return dataset\n",
        "\n",
        "\n",
        "  def __parse_example(self, record):\n",
        "    feature_names = {}\n",
        "    feature_names['image'] = tf.io.FixedLenSequenceFeature([],tf.float32, allow_missing=True)\n",
        "    feature_names['landmarks'] = tf.io.FixedLenSequenceFeature([],tf.float32, allow_missing=True)\n",
        "    return tf.io.parse_single_example(record, feature_names)\n",
        "\n",
        "  def __reshape_entry(self, entry):\n",
        "    image = tf.reshape(entry['image'], DataLoader.IMAGE_SHAPE)\n",
        "    landmarks = tf.reshape(entry['landmarks'], DataLoader.LANDMARKS_SHAPE)\n",
        "    return image, landmarks\n",
        "\n",
        "\n",
        "train_data, val_data, test_data = DataLoader.load_datasets()\n",
        "for i,record in enumerate(val_data):\n",
        "  print(record[0].shape)"
      ],
      "execution_count": null,
      "outputs": []
    },
    {
      "cell_type": "markdown",
      "metadata": {
        "id": "I8nXeY8TyBnk"
      },
      "source": [
        "## [PFLD Model](https://arxiv.org/pdf/1902.10859.pdf)\n"
      ]
    },
    {
      "cell_type": "code",
      "metadata": {
        "id": "cyI6el6RyMM_"
      },
      "source": [
        "\n",
        "def mobilenet_block(x:layers.Layer, t=2, c=64, s=2):\n",
        "  \"\"\"\n",
        "  MoblieNetv2 residual block\n",
        "  Arguments\n",
        "  -----------\n",
        "    x: keras layer input\n",
        "    t: expansion factor based on size of input layer\n",
        "    c: number of channels\n",
        "    s: stride width/height\n",
        "  \"\"\"\n",
        "\n",
        "  l = layers.Conv2D(expand, (1,1), strides=(1,1), padding=\"same\")(x) \n",
        "  l = layers.BatchNormalization()(l)\n",
        "  l = layers.Activation(\"relu6\")(l)\n",
        "  l = layers.DepthwiseConv2D((s,s), padding=\"same\")(l)\n",
        "  l = layers.BatchNormalization()(l)\n",
        "  l = layers.Activation(\"relu6\")(l)\n",
        "  l = layers.Conv2D(c, (1,1), strides=(1,1), padding=\"same\")(l)\n",
        "  l = layers.BatchNormalization()(l)\n",
        "  return layers.Add()([m,x])\n",
        "\n",
        "def create_backbone_model(input_shape):\n",
        "  input_layer = layers.Input(input_shape=input_shape)\n",
        "  x = layers.Conv2D(64,(3,3), strides=(2,2), activation=\"relu\")(input_layer) #hmmm\n",
        "  x = layers.DepthwiseConv2D(64, strides=(1,1), activation=\"relu\")(x)\n",
        "  for _ in range(5):\n",
        "    x = mobilenet_block(x, t=2, c=64, s=2)\n",
        "  x = mobilenet_block(x, t=2, c=128, s=2)\n",
        "  for _ in range(6):\n",
        "    x = mobilenet_block(x, t=4, c=128, s=2)\n",
        "  x = mobilenet_block(x, t=2, c=16, s=1)\n",
        "\n",
        "  x = layers.Conv2D(32,(3,3), strides=(2,2), activation=\"relu\")(x)\n",
        "  x = layers.Conv2D(32,(7,7), strides=(1,1), activation=\"relu\")(x)\n",
        "  x = layers.Flatten()(x)\n",
        "  x = layers.Dense(136, activation=\"relu\")(x)\n",
        "\n",
        "  return Model(name=\"PFLM Backbone\", inputs=input_layer, outputs=x)\n",
        "  \n",
        "\n",
        "\n",
        "def create_aux_model(input_shape):\n",
        "  input_layer = layers.Input(input_shape)\n",
        "  x = layers.Conv2D(128, (3,3), strides=(2,2), activation=\"relu\")(x)\n",
        "  x = layers.Conv2D(128, (3,3), strides=(1,1), activation=\"relu\")(x)\n",
        "  x = layers.Conv2D(32, (3,3), strides=(2,2), activation=\"relu\")(x)\n",
        "  x = layers.Conv2D(128, (7,7), strides=(1,1), activation=\"relu\")(x)\n",
        "\n",
        "  x = layers.Flatten()(x)\n",
        "  x = layers.Dense(32, activation=\"relu\")(x)\n",
        "  x = layers.Dense(3, activation=\"relu\")(x)\n",
        "\n",
        "  return Model(name=\"PFLM Auxiliary\", inputs=input_layer, outputs=x)"
      ],
      "execution_count": 4,
      "outputs": []
    },
    {
      "cell_type": "markdown",
      "metadata": {
        "id": "ZwW6y33R9jmf"
      },
      "source": [
        "## Basic Benchmark Model\n",
        "From [this medium article](https://towardsdatascience.com/detecting-facial-features-using-deep-learning-2e23c8660a7a)"
      ]
    },
    {
      "cell_type": "code",
      "metadata": {
        "id": "rX_z1wLO2YfP"
      },
      "source": [
        "def create_basic_landmark_model(input_shape, conv_range):\n",
        "  input_layer = layers.Input(input_shape)\n",
        "  x = input_layer\n",
        "  for exp in conv_range:\n",
        "    x = layers.Conv2D(2**exp, (3,3), 3, activation=\"relu\")(x)\n",
        "    x = layers.MaxPool2D(padding=\"same\")(x)\n",
        "  x = layers.Flatten()(x)\n",
        "  x = layers.Dense(500, activation=\"relu\")(x)\n",
        "  x = layers.Dense(90, activation=\"relu\")(x)\n",
        "  x = layers.Dense(68*2, activation=\"relu\")(x)\n",
        "  return Model(name=\"landmark_locator\", inputs=input_layer, outputs=x)\n",
        "\n"
      ],
      "execution_count": null,
      "outputs": []
    },
    {
      "cell_type": "code",
      "metadata": {
        "id": "RfkeiXIDEfgL",
        "colab": {
          "base_uri": "https://localhost:8080/"
        },
        "outputId": "d25b2ce6-2b27-4fd2-b6e5-780d4e604911"
      },
      "source": [
        "INPUT_SHAPE = (450,450,3)\n",
        "basic_model = create_basic_landmark_model(INPUT_SHAPE, range(5,8))\n",
        "basic_model.compile(optimizer=\"adam\", loss=\"mse\", metrics=[\"accuracy\"])\n",
        "basic_model.summary()"
      ],
      "execution_count": null,
      "outputs": [
        {
          "output_type": "stream",
          "text": [
            "Model: \"landmark_locator\"\n",
            "_________________________________________________________________\n",
            "Layer (type)                 Output Shape              Param #   \n",
            "=================================================================\n",
            "input_1 (InputLayer)         [(None, 450, 450, 3)]     0         \n",
            "_________________________________________________________________\n",
            "conv2d (Conv2D)              (None, 150, 150, 32)      896       \n",
            "_________________________________________________________________\n",
            "max_pooling2d (MaxPooling2D) (None, 75, 75, 32)        0         \n",
            "_________________________________________________________________\n",
            "conv2d_1 (Conv2D)            (None, 25, 25, 64)        18496     \n",
            "_________________________________________________________________\n",
            "max_pooling2d_1 (MaxPooling2 (None, 13, 13, 64)        0         \n",
            "_________________________________________________________________\n",
            "conv2d_2 (Conv2D)            (None, 4, 4, 128)         73856     \n",
            "_________________________________________________________________\n",
            "max_pooling2d_2 (MaxPooling2 (None, 2, 2, 128)         0         \n",
            "_________________________________________________________________\n",
            "flatten (Flatten)            (None, 512)               0         \n",
            "_________________________________________________________________\n",
            "dense (Dense)                (None, 500)               256500    \n",
            "_________________________________________________________________\n",
            "dense_1 (Dense)              (None, 90)                45090     \n",
            "_________________________________________________________________\n",
            "dense_2 (Dense)              (None, 136)               12376     \n",
            "=================================================================\n",
            "Total params: 407,214\n",
            "Trainable params: 407,214\n",
            "Non-trainable params: 0\n",
            "_________________________________________________________________\n"
          ],
          "name": "stdout"
        }
      ]
    },
    {
      "cell_type": "code",
      "metadata": {
        "id": "eQc5qiW1FzcD"
      },
      "source": [
        "basic_model.fit(train_data.shuffle(64), epochs=30, validation_data=val_data, verbose=1)"
      ],
      "execution_count": null,
      "outputs": []
    },
    {
      "cell_type": "markdown",
      "metadata": {
        "id": "nr31eAIQVGlu"
      },
      "source": [
        "### Analyze Results"
      ]
    },
    {
      "cell_type": "code",
      "metadata": {
        "id": "ukAD1nioU9WQ"
      },
      "source": [
        "pd.DataFrame(basic_model.history.history).plot()"
      ],
      "execution_count": null,
      "outputs": []
    },
    {
      "cell_type": "code",
      "metadata": {
        "id": "uQJxDEObVSOx"
      },
      "source": [
        "predictions = basic_model.predict(test_data.map(lambda x,y: x))"
      ],
      "execution_count": null,
      "outputs": []
    },
    {
      "cell_type": "code",
      "metadata": {
        "id": "2AShlJ00Vz81"
      },
      "source": [
        "#@title View Predicted Images\n",
        "image_index = 3 #@param {type:\"slider\", min:1, max:16, step:1}\n",
        "points = predictions * 450\n",
        "i = 0\n",
        "for x in test_data.map(lambda x,y: x):\n",
        "  if (i == image_index):\n",
        "    display_landmarks(tf.reshape(x, DataLoader.IMAGE_SHAPE), points[image_index])\n",
        "    break\n",
        "  i += 1"
      ],
      "execution_count": null,
      "outputs": []
    }
  ]
}